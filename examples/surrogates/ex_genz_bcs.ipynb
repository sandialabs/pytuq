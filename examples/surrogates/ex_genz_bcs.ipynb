{
 "cells": [
  {
   "cell_type": "markdown",
   "metadata": {},
   "source": [
    "## Genz Function Approximation with PCE fitted via BCS"
   ]
  },
  {
   "cell_type": "markdown",
   "metadata": {},
   "source": [
    "In this example, we approximate the Genz Oscillatory function by constructing a Polynomial Chaos (PC) surrogate with Bayesian compressive sensing (BCS). The first build process uses a given eta of 1e-10, while the second build process selects the most optimal eta for BCS through cross-validation. Both models are then evaluated on testing and training data, returning parity plots and a Root Mean Square Error for each evaluation. \n",
    "\n",
    "To follow along with the cross-validation algorithm used to select the optimal eta, see section \"Functions for cross-validation algorithm\" at the end of the notebook."
   ]
  },
  {
   "cell_type": "code",
   "execution_count": 1,
   "metadata": {},
   "outputs": [],
   "source": [
    "import os\n",
    "import sys\n",
    "\n",
    "import numpy as np\n",
    "import copy\n",
    "import math\n",
    "import pytuq.utils.funcbank as fcb\n",
    "from matplotlib import pyplot as plt\n",
    "from sklearn.metrics import root_mean_squared_error\n",
    "\n",
    "\n",
    "from pytuq.surrogates.pce import PCE\n",
    "from pytuq.utils.maps import scale01ToDom\n",
    "from pytuq.func.genz import GenzOscillatory"
   ]
  },
  {
   "cell_type": "markdown",
   "metadata": {},
   "source": [
    "Setting a random number generator seed:"
   ]
  },
  {
   "cell_type": "code",
   "execution_count": 2,
   "metadata": {},
   "outputs": [],
   "source": [
    "# Random number generator\n",
    "from scipy.stats import qmc\n",
    "rng_seed = 4311"
   ]
  },
  {
   "cell_type": "markdown",
   "metadata": {},
   "source": [
    "# Constructing PC surrogate and generating data"
   ]
  },
  {
   "cell_type": "markdown",
   "metadata": {},
   "source": [
    "We generate the Genz function, as well as training data and testing data with output noise. This data and the corresponding Genz function will be used to create the same PC surrogate fitted in both examples: (1) The first surrogate will be fitted using BCS with a given eta, and (2) the second surrogate will be fitted using BCS with the most optimal eta."
   ]
  },
  {
   "cell_type": "code",
   "execution_count": 3,
   "metadata": {},
   "outputs": [],
   "source": [
    "# Use Genz Oscillatory function in multiple dimensions for the true model\n",
    "func_dim = 4\n",
    "func_weights = [1.0/(i+1)**2 for i in range(func_dim)]\n",
    "func = GenzOscillatory(shift=0.25, weights=func_weights)\n",
    "noise_std = 0.1\n",
    "rng = qmc.LatinHypercube(d=func_dim, seed=rng_seed)\n",
    "\n",
    "# Training data\n",
    "np.random.seed(42)\n",
    "n_trn = 70\n",
    "x_trn = rng.random(n=n_trn) # random numbers in [0,1]^d\n",
    "y_trn = func(x_trn) + np.random.normal(0, noise_std, size = (n_trn,1))\n",
    "\n",
    "# Testing data\n",
    "n_tst = 10000\n",
    "x_tst = rng.random(n=n_tst) # random numbers in [0,1]^d\n",
    "y_tst = func(x_tst) + np.random.normal(0, noise_std, size = (n_tst,1))"
   ]
  },
  {
   "cell_type": "markdown",
   "metadata": {},
   "source": [
    "With a stochastic dimensionality of 4 (defined above) and a polynomial order of 4, we construct the PC surrogate that will be used in both builds. You have the option of printing the PC surrogate's full basis, before BCS selects and retains the most significant PC coefficients to reduce the basis."
   ]
  },
  {
   "cell_type": "code",
   "execution_count": 4,
   "metadata": {},
   "outputs": [
    {
     "name": "stdout",
     "output_type": "stream",
     "text": [
      "Constructed PC Surrogate with the following attributes:\n",
      "['LU', 'LU', 'LU', 'LU'] PC Random Variable(pdim=1, sdim=4)\n",
      "\n",
      "Full Basis and Current Coefficients:\n",
      "[[0 0 0 0]\n",
      " [1 0 0 0]\n",
      " [0 1 0 0]\n",
      " [0 0 1 0]\n",
      " [0 0 0 1]\n",
      " [2 0 0 0]\n",
      " [1 1 0 0]\n",
      " [1 0 1 0]\n",
      " [1 0 0 1]\n",
      " [0 2 0 0]\n",
      " [0 1 1 0]\n",
      " [0 1 0 1]\n",
      " [0 0 2 0]\n",
      " [0 0 1 1]\n",
      " [0 0 0 2]\n",
      " [3 0 0 0]\n",
      " [2 1 0 0]\n",
      " [2 0 1 0]\n",
      " [2 0 0 1]\n",
      " [1 2 0 0]\n",
      " [1 1 1 0]\n",
      " [1 1 0 1]\n",
      " [1 0 2 0]\n",
      " [1 0 1 1]\n",
      " [1 0 0 2]\n",
      " [0 3 0 0]\n",
      " [0 2 1 0]\n",
      " [0 2 0 1]\n",
      " [0 1 2 0]\n",
      " [0 1 1 1]\n",
      " [0 1 0 2]\n",
      " [0 0 3 0]\n",
      " [0 0 2 1]\n",
      " [0 0 1 2]\n",
      " [0 0 0 3]\n",
      " [4 0 0 0]\n",
      " [3 1 0 0]\n",
      " [3 0 1 0]\n",
      " [3 0 0 1]\n",
      " [2 2 0 0]\n",
      " [2 1 1 0]\n",
      " [2 1 0 1]\n",
      " [2 0 2 0]\n",
      " [2 0 1 1]\n",
      " [2 0 0 2]\n",
      " [1 3 0 0]\n",
      " [1 2 1 0]\n",
      " [1 2 0 1]\n",
      " [1 1 2 0]\n",
      " [1 1 1 1]\n",
      " [1 1 0 2]\n",
      " [1 0 3 0]\n",
      " [1 0 2 1]\n",
      " [1 0 1 2]\n",
      " [1 0 0 3]\n",
      " [0 4 0 0]\n",
      " [0 3 1 0]\n",
      " [0 3 0 1]\n",
      " [0 2 2 0]\n",
      " [0 2 1 1]\n",
      " [0 2 0 2]\n",
      " [0 1 3 0]\n",
      " [0 1 2 1]\n",
      " [0 1 1 2]\n",
      " [0 1 0 3]\n",
      " [0 0 4 0]\n",
      " [0 0 3 1]\n",
      " [0 0 2 2]\n",
      " [0 0 1 3]\n",
      " [0 0 0 4]] [0. 0. 0. 0. 0. 0. 0. 0. 0. 0. 0. 0. 0. 0. 0. 0. 0. 0. 0. 0. 0. 0. 0. 0.\n",
      " 0. 0. 0. 0. 0. 0. 0. 0. 0. 0. 0. 0. 0. 0. 0. 0. 0. 0. 0. 0. 0. 0. 0. 0.\n",
      " 0. 0. 0. 0. 0. 0. 0. 0. 0. 0. 0. 0. 0. 0. 0. 0. 0. 0. 0. 0. 0. 0.]\n",
      "Number of Basis Terms: 70\n"
     ]
    }
   ],
   "source": [
    "# (1) Construct a PC surrogate\n",
    "order = 4\n",
    "pce_surr = PCE(func_dim, order, 'LU', verbose = 1)\n",
    "\n",
    "# Optional verbosity output:\n",
    "print(\"Full Basis and Current Coefficients:\")\n",
    "pce_surr.pcrv.printInfo()\n",
    "print(\"Number of Basis Terms:\", len(pce_surr.pcrv.mindices[0]))\n",
    "\n",
    "# (1.5) Set training data\n",
    "pce_surr.set_training_data(x_trn, y_trn[:,0])"
   ]
  },
  {
   "cell_type": "markdown",
   "metadata": {},
   "source": [
    "# BCS with default settings (default eta)"
   ]
  },
  {
   "cell_type": "markdown",
   "metadata": {},
   "source": [
    "Here, we call the PCE class method of `build()` to build the linear regression model used to fit the surrogate. With the flag `regression='bcs'`, we choose the BCS method for the fitting. A user-defined eta of 1e-10 is also passed in."
   ]
  },
  {
   "cell_type": "code",
   "execution_count": 5,
   "metadata": {},
   "outputs": [
    {
     "name": "stdout",
     "output_type": "stream",
     "text": [
      "Regression method: bcs\n",
      "Retained Basis and Coefficients:\n",
      "[[1 0 0 0]\n",
      " [0 0 0 0]\n",
      " [0 1 1 0]\n",
      " [3 1 0 0]\n",
      " [0 2 2 0]\n",
      " [0 0 0 4]\n",
      " [1 0 1 0]\n",
      " [3 0 1 0]\n",
      " [3 0 0 0]\n",
      " [0 1 1 1]\n",
      " [0 1 0 3]\n",
      " [0 1 0 1]\n",
      " [0 1 1 2]\n",
      " [1 0 0 1]\n",
      " [0 1 2 1]\n",
      " [0 0 1 0]\n",
      " [0 0 0 3]\n",
      " [2 1 1 0]\n",
      " [0 0 3 1]\n",
      " [2 1 0 0]\n",
      " [0 1 3 0]] [-0.97219263 -0.24303645  0.17425137  0.07702365  0.50399841 -0.06768243\n",
      "  0.45380039 -0.37528979  0.28387471 -4.8909167  -0.13601235  1.76967257\n",
      "  1.26856475 -0.11360014  1.69839209  0.22132661 -0.08252123 -0.24310745\n",
      " -0.09591703  0.12068122 -0.29288557]\n",
      "Number of retained basis terms: 21\n"
     ]
    }
   ],
   "source": [
    "# (2) Build the linear regression object for fitting\n",
    "pce_surr.build(regression='bcs', eta=1.e-10)\n",
    "\n",
    "# Optional verbosity output:\n",
    "print(\"Retained Basis and Coefficients:\")\n",
    "pce_surr.pcrv.printInfo()\n",
    "print(\"Number of retained basis terms:\", len(pce_surr.pcrv.mindices[0]))"
   ]
  },
  {
   "cell_type": "markdown",
   "metadata": {},
   "source": [
    "After fitting, we evaluate the PCE using our training and testing data. To analyze the model's goodness of fit, we calculate the root mean square error between the surrogate results and the training and testing data."
   ]
  },
  {
   "cell_type": "code",
   "execution_count": 6,
   "metadata": {},
   "outputs": [
    {
     "name": "stdout",
     "output_type": "stream",
     "text": [
      "The training RMSE error in the PCE BCS approximation is 7.21e-02\n",
      "The testing RMSE error in the PCE BCS approximation is 1.33e-01\n"
     ]
    }
   ],
   "source": [
    "# (3) Evaluate the PC model\n",
    "y_trn_approx = pce_surr.evaluate(x_trn)\n",
    "y_tst_approx = pce_surr.evaluate(x_tst)\n",
    "\n",
    "# Evaluate goodness of fit with RMSE\n",
    "rmse_trn = root_mean_squared_error(y_trn[:,0],y_trn_approx[\"Y_eval\"])\n",
    "print(\"The training RMSE error in the PCE BCS approximation is %.2e\"%rmse_trn)\n",
    "\n",
    "rmse_tst = root_mean_squared_error(y_tst[:,0],y_tst_approx[\"Y_eval\"])\n",
    "print(\"The testing RMSE error in the PCE BCS approximation is %.2e\"%rmse_tst)"
   ]
  },
  {
   "cell_type": "markdown",
   "metadata": {},
   "source": [
    "Notice above how the training RMSE error is almost half that of the testing RMSE error. This shows that our current model is overfitting, learning the training data with noise too well. To address this issue, we can explore selecting a better eta for the BCS fitting."
   ]
  },
  {
   "cell_type": "code",
   "execution_count": 7,
   "metadata": {},
   "outputs": [
    {
     "data": {
      "image/png": "[encoded data removed]",
      "text/plain": [
       "<Figure size 800x600 with 1 Axes>"
      ]
     },
     "metadata": {},
     "output_type": "display_data"
    }
   ],
   "source": [
    "# Plot the surrogate model's output vs. the training data output\n",
    "\n",
    "y_trn_mM = [y_trn[:,0].min(),y_trn[:,0].max()]\n",
    "\n",
    "\n",
    "fig1 = plt.figure(figsize=(8,6))\n",
    "ax1 = fig1.add_axes([0.15, 0.15, 0.80, 0.75])\n",
    "\n",
    "\n",
    "ax1.plot(y_trn[:,0],y_trn_approx[\"Y_eval\"],\".\")\n",
    "ax1.plot(y_trn_mM,y_trn_mM) # Diagonal line\n",
    "\n",
    "ax1.set_xlabel(\"Train Data y\", size=16)\n",
    "ax1.set_ylabel(\"Predicted y\", size=16); "
   ]
  },
  {
   "cell_type": "code",
   "execution_count": 8,
   "metadata": {},
   "outputs": [
    {
     "data": {
      "image/png": "[encoded data removed]",
      "text/plain": [
       "<Figure size 800x600 with 1 Axes>"
      ]
     },
     "metadata": {},
     "output_type": "display_data"
    }
   ],
   "source": [
    "# Plot the surrogate model's output vs. the testing data output\n",
    "\n",
    "y_tst_mM = [y_tst[:,0].min(),y_tst[:,0].max()]\n",
    "\n",
    "\n",
    "fig2 = plt.figure(figsize=(8,6))\n",
    "ax2 = fig2.add_axes([0.15, 0.15, 0.80, 0.75])\n",
    "\n",
    "\n",
    "ax2.plot(y_tst[:,0],y_tst_approx[\"Y_eval\"],\".\")\n",
    "ax2.plot(y_tst_mM,y_tst_mM) # Diagonal line\n",
    "\n",
    "ax2.set_xlabel(\"Test Data y\", size=16)\n",
    "ax2.set_ylabel(\"Predicted y\", size=16); "
   ]
  },
  {
   "cell_type": "markdown",
   "metadata": {},
   "source": [
    "# BCS with optimal eta (found through cross-validation) "
   ]
  },
  {
   "cell_type": "markdown",
   "metadata": {},
   "source": [
    "In this section, we use the same PC surrogate, `pce_surr`, for the second build. We call the PCE class method of `build()` to build the linear regression model used to fit the surrogate. With the flag `regression='bcs'`, we choose the BCS method for the fitting. \n",
    "\n",
    "Instead of using a default eta, we call the cross-validation algorithm, `optimize_eta()`, to choose the most optimal eta below. \n",
    "- With the flag `plot=True`, the CV algorithm produces a graph of the training and testing (validation) data's RMSE values for each eta. The eta with the smallest RMSE for the validation data is the one chosen as the optimal eta."
   ]
  },
  {
   "cell_type": "code",
   "execution_count": 21,
   "metadata": {},
   "outputs": [
    {
     "name": "stdout",
     "output_type": "stream",
     "text": [
      "0 1.0\n",
      "0 0.1\n",
      "0 0.01\n",
      "0 0.001\n",
      "0 0.0001\n",
      "0 1e-05\n",
      "0 1e-06\n",
      "0 1e-07\n",
      "0 1e-08\n",
      "0 1e-09\n",
      "0 1e-10\n",
      "0 1e-11\n",
      "0 1e-12\n",
      "0 1e-13\n",
      "0 1e-14\n",
      "0 1e-15\n",
      "1 1.0\n",
      "1 0.1\n",
      "1 0.01\n",
      "1 0.001\n",
      "1 0.0001\n",
      "1 1e-05\n",
      "1 1e-06\n",
      "1 1e-07\n",
      "1 1e-08\n",
      "1 1e-09\n",
      "1 1e-10\n",
      "1 1e-11\n",
      "1 1e-12\n",
      "1 1e-13\n",
      "1 1e-14\n",
      "1 1e-15\n",
      "2 1.0\n",
      "2 0.1\n",
      "2 0.01\n",
      "2 0.001\n",
      "2 0.0001\n",
      "2 1e-05\n",
      "2 1e-06\n",
      "2 1e-07\n",
      "2 1e-08\n",
      "2 1e-09\n",
      "2 1e-10\n",
      "2 1e-11\n",
      "2 1e-12\n",
      "2 1e-13\n",
      "2 1e-14\n",
      "2 1e-15\n",
      "3 1.0\n",
      "3 0.1\n",
      "3 0.01\n",
      "3 0.001\n",
      "3 0.0001\n",
      "3 1e-05\n",
      "[-1.28769463e-03 -1.03122584e-02  3.82312400e-03 -5.81512540e-03\n",
      "  4.02182946e-03  7.24999380e-03  2.82610107e-04  1.21345570e-03\n",
      "  1.23556444e-03  2.01236671e-02  4.23960882e-03  1.78894198e-03\n",
      "  7.54914945e-03  1.35977343e-03 -5.92043337e-03 -2.33667199e-05\n",
      "  9.38402108e-03 -2.73063601e-03  7.90212500e-03]\n",
      "Warning: Sigma matrix has a negative diagonal element. Setting them to zero, but this may lead to inaccuracies.\n",
      "3 1e-06\n"
     ]
    },
    {
     "ename": "SystemExit",
     "evalue": "",
     "output_type": "error",
     "traceback": [
      "An exception has occurred, use %tb to see the full traceback.\n",
      "\u001b[31mSystemExit\u001b[39m\n"
     ]
    },
    {
     "name": "stderr",
     "output_type": "stream",
     "text": [
      "/Library/Frameworks/Python.framework/Versions/3.13/lib/python3.13/site-packages/IPython/core/interactiveshell.py:3707: UserWarning: To exit: use 'exit', 'quit', or Ctrl-D.\n",
      "  warn(\"To exit: use 'exit', 'quit', or Ctrl-D.\", stacklevel=1)\n"
     ]
    }
   ],
   "source": [
    "# We first create a list of possible etas to pass in: [1e-16, 1e-15, ... , 1e-2, 1e-1, 1]\n",
    "etas = 1/np.power(10,[i for i in range(0,16)])\n",
    "\n",
    "# Then, we call the function to choose the optimal eta:\n",
    "eta_opt = optimize_eta(pce_surr, etas, 10, plot=True)"
   ]
  },
  {
   "cell_type": "markdown",
   "metadata": {},
   "source": [
    "Now, with the optimal eta obtained, we run the fitting again. Then, we evaluate the PCE and produce a parity plot for the predicted output vs. the testing data. Notice that the larger eta, 10e-2, retained fewer basis terms (6) compared to the smaller user-defined eta of 10e-10 (which retained 20 basis terms)."
   ]
  },
  {
   "cell_type": "code",
   "execution_count": null,
   "metadata": {},
   "outputs": [],
   "source": [
    "# Build the linear regression object for fitting\n",
    "pce_surr.build(regression='bcs', eta=eta_opt)\n",
    "\n",
    "# Optional verbosity output:\n",
    "print(\"Retained Basis and Coefficients:\")\n",
    "pce_surr.pcrv.printInfo()\n",
    "print(\"Number of retained basis terms:\", len(pce_surr.pcrv.mindices[0]))"
   ]
  },
  {
   "cell_type": "code",
   "execution_count": null,
   "metadata": {},
   "outputs": [],
   "source": [
    "# Evaluate the PC model with training and testing data\n",
    "y_trn_approx = pce_surr.evaluate(x_trn)\n",
    "y_tst_approx = pce_surr.evaluate(x_tst)\n",
    "\n",
    "# Evaluate goodness of fit with RMSE\n",
    "rmse_trn = root_mean_squared_error(y_trn[:,0],y_trn_approx[\"Y_eval\"])\n",
    "print(\"The training RMSE error in the PCE BCS approximation is %.2e\"%rmse_trn)\n",
    "\n",
    "rmse_tst = root_mean_squared_error(y_tst[:,0],y_tst_approx[\"Y_eval\"])\n",
    "print(\"The testing RMSE error in the PCE BCS approximation is %.2e\"%rmse_tst)"
   ]
  },
  {
   "cell_type": "markdown",
   "metadata": {},
   "source": [
    "While the training RMSE error was almost half that of the testing RMSE error for the first fitting, the RMSE errors here are much closer to each other in value. This suggests that the model has more effectively generalized to the unseen data; a better eta has improved performance."
   ]
  },
  {
   "cell_type": "code",
   "execution_count": null,
   "metadata": {},
   "outputs": [],
   "source": [
    "# Plot the surrogate model's output vs. the testing data output\n",
    "y_tst_mM = [y_tst[:,0].min(),y_tst[:,0].max()]\n",
    "\n",
    "\n",
    "fig2 = plt.figure(figsize=(8,6))\n",
    "ax2 = fig2.add_axes([0.15, 0.15, 0.80, 0.75])\n",
    "\n",
    "\n",
    "ax2.plot(y_tst[:,0],y_tst_approx[\"Y_eval\"],\".\")\n",
    "ax2.plot(y_tst_mM,y_tst_mM) # Diagonal line\n",
    "\n",
    "ax2.set_xlabel(\"Test Data y\", size=16)\n",
    "ax2.set_ylabel(\"Predicted y\", size=16); "
   ]
  },
  {
   "cell_type": "markdown",
   "metadata": {},
   "source": [
    "# Functions for cross-validation algorithm"
   ]
  },
  {
   "cell_type": "markdown",
   "metadata": {},
   "source": [
    "Below, we expose the cross-validation algorithm `optimize_eta` and its two helper functions, `kfold_split` and `kfold_cv`."
   ]
  },
  {
   "cell_type": "code",
   "execution_count": 15,
   "metadata": {},
   "outputs": [],
   "source": [
    "def kfold_split(nsamples,nfolds,seed=13):\n",
    "    \"\"\"\n",
    "    Return dictionary of training and testing pairs using k-fold cross-validation.\n",
    "\n",
    "    Args:\n",
    "        nsamples (int): Total number of training samples.\n",
    "        nfolds (int): Number of folds to use for k-fold cross-validation.\n",
    "        seed (int, optional): Random seed for reproducibility. Defaults to 13.\n",
    "\n",
    "    Returns:\n",
    "        dict: A dictionary where each key is the fold number (0 to nfolds-1) \n",
    "        and each value is a dictionary with:\n",
    "            - \"train index\" (np.ndarray): Indices of training samples.\n",
    "            - \"val index\" (np.ndarray): Indices of validation samples.\n",
    "    \"\"\"\n",
    "    # Returns split data where each data is one fold left out\n",
    "    KK=nfolds\n",
    "    rn = np.random.RandomState(seed)\n",
    "\n",
    "    # Creating a random permutation of the samples indices list\n",
    "    indp=rn.permutation(nsamples)\n",
    "\n",
    "    # Split the permuted indices into KK (or # folds) equal-sized chunks \n",
    "    split_index=np.array_split(indp,KK)\n",
    "\n",
    "    # Dictionary to hold the indices of the training and validation samples\n",
    "    cvindices = {}\n",
    "\n",
    "    # create testing and training folds\n",
    "    for j in range(KK):\n",
    "        # Iterating through the number of folds\n",
    "        fold = j\n",
    "        # Iterate through # folds, if i != fold number, \n",
    "        newindex = [split_index[i] for i in range(len(split_index)) if i != (fold)]\n",
    "        train_ind = np.array([],dtype='int64')\n",
    "        for i in range(len(newindex)): train_ind = np.concatenate((train_ind,newindex[i]))\n",
    "        test_ind = split_index[fold]\n",
    "        cvindices[j] = {'train index': train_ind, 'val index': test_ind}\n",
    "\n",
    "    return cvindices"
   ]
  },
  {
   "cell_type": "code",
   "execution_count": 16,
   "metadata": {},
   "outputs": [],
   "source": [
    "def kfold_cv(x,y,nfolds=3,seed=13):\n",
    "    \"\"\"\n",
    "    Splits data into training/testing pairs for kfold cross-val\n",
    "    x is a data matrix of size n x d1, d1 is dim of input\n",
    "    y is a data matrix of size n x d2, d2 is dim of output\n",
    "\n",
    "    Args:\n",
    "    x (np.ndarray): \n",
    "        Input matrix with shape (n, d1) or 1D array with shape (n,).\n",
    "        Each row is a sample; columns are input features.\n",
    "    y (np.ndarray):\n",
    "        Target array with shape (n,) for single-output, or (n, d2) for\n",
    "        multi-output. If 1D, it is internally reshaped to (n, 1) before\n",
    "        slicing; outputs are `np.squeeze`d per fold.\n",
    "    nfolds (int, optional): Number of folds for cross-validation. Defaults to 3.\n",
    "    seed (int, optional):\n",
    "        Random seed for reproducible shuffling in `kfold_split`. Defaults to 13.\n",
    "    \"\"\"\n",
    "    if len(x.shape)>1:\n",
    "        n,d1 = x.shape\n",
    "    else:\n",
    "        n=x.shape\n",
    "    ynew = np.atleast_2d(y)\n",
    "    if len(ynew) == 1: ynew = ynew.T # change to shape (n,1)\n",
    "    _,d2 = ynew.shape\n",
    "    cv_idx = kfold_split(n,nfolds,seed)\n",
    "\n",
    "    kfold_data = {}\n",
    "    for k in cv_idx.keys():\n",
    "        kfold_data[k] = {\n",
    "        'xtrain': x[cv_idx[k]['train index']],\n",
    "        'xval': x[cv_idx[k]['val index']],\n",
    "        'ytrain': np.squeeze(ynew[cv_idx[k]['train index']]),\n",
    "        'yval': np.squeeze(ynew[cv_idx[k]['val index']])\n",
    "        } # use squeeze to return 1d array\n",
    "\n",
    "        # set train and test to the same if 1 fold\n",
    "        if nfolds == 1:\n",
    "            kfold_data[k]['xtrain'] = kfold_data[k]['xval']\n",
    "            kfold_data[k]['ytrain'] = kfold_data[k]['yval']\n",
    "\n",
    "    return kfold_data"
   ]
  },
  {
   "cell_type": "code",
   "execution_count": 20,
   "metadata": {},
   "outputs": [],
   "source": [
    "def optimize_eta(pce, etas, nfolds, verbose=0, plot=False):\n",
    "    \"\"\"\n",
    "    Choose the optimum eta for Bayesian compressive sensing. Calculates the RMSE\n",
    "        for each eta for a specified number of folds. Selects the eta with the lowest\n",
    "        RMSE after averaging the RMSEs over the folds.\n",
    "\n",
    "    Input:\n",
    "        y:             1D numpy array (vector) with function, evaluated at the\n",
    "                            sample points [#samples,]\n",
    "        x:             N-dimensional NumPy array with sample points [#samples,\n",
    "                            #dimensions]\n",
    "        etas:          NumPy array or list with the threshold for stopping the\n",
    "                            algorithm. Smaller values retain more nonzero\n",
    "                            coefficients\n",
    "        verbose:       Flag for print statements\n",
    "        plot:          Flag for whether to generate a plot for eta optimization\n",
    "\n",
    "    Output:\n",
    "        eta_opt:      Optimum eta\n",
    "\n",
    "    \"\"\"\n",
    "    # Split data in k folds -> Get dictionary of data split in training + testing folds\n",
    "    kfold_data = kfold_cv(pce._x_train, pce._y_train, nfolds)\n",
    "\n",
    "    # Each value has data for 1 fold. Each value is a list of the RMSEs for each possible eta in the fold. \n",
    "    RMSE_list_per_fold_tr = [] \n",
    "\n",
    "    # Same but for testing data\n",
    "    RMSE_list_per_fold_test = []\n",
    "\n",
    "    # Make a copy of the PCE object to run the cross-validation algorithm on\n",
    "    pce_copy = copy.deepcopy(pce)\n",
    "    pce_copy.verbose = 0\n",
    "\n",
    "    # Loop through each fold\n",
    "    for i in range(nfolds):\n",
    "        \n",
    "        # Get the training and validation data\n",
    "        x_tr = kfold_data[i]['xtrain']\n",
    "        y_tr = kfold_data[i]['ytrain']\n",
    "        x_test = kfold_data[i]['xval']\n",
    "        y_test = kfold_data[i]['yval']\n",
    "        \n",
    "        # As we conduct BCS for this fold with each separate eta, the RMSEs will be added to these lists\n",
    "        RMSE_per_eta_tr = [] \n",
    "        RMSE_per_eta_test = [] \n",
    "\n",
    "        # Set the x and y training data for the copied PCE object\n",
    "        pce_copy.set_training_data(x_tr, y_tr)\n",
    "\n",
    "        # Loop through each eta\n",
    "        for eta in etas:\n",
    "            print(i, eta)\n",
    "            np.savetxt('xx', x_tr)\n",
    "            np.savetxt('yy', y_tr)\n",
    "            if (i==3 and eta==0.000001):\n",
    "                sys.exit()\n",
    "\n",
    "            # Conduct the BCS fitting. The object is automatically updated with new multiindex and coefficients received from the fitting.\n",
    "            cfs = pce_copy.build(regression = 'bcs', eta=eta)\n",
    "\n",
    "            # Evaluate the PCE object at the training and validation points \n",
    "            y_tr_eval = (pce_copy.evaluate(x_tr))['Y_eval']\n",
    "            y_test_eval = (pce_copy.evaluate(x_test))['Y_eval']\n",
    "\n",
    "            # Print statement for verbose flag\n",
    "            if verbose > 1:\n",
    "                print(\"Fold \" + str(i + 1) + \", eta \" + str(eta) + \", \" + str(len(cfs)) + \" terms retained out of a full basis of size \" + str(len(pce.pcrv.mindices[0])))\n",
    "            \n",
    "            # Calculate the RMSEs for the training and validation points.\n",
    "            # Append the values into the list of etas per fold.\n",
    "            MSE = np.square(np.subtract(y_tr, y_tr_eval)).mean()\n",
    "            RMSE = math.sqrt(MSE)\n",
    "            RMSE_per_eta_tr.append(RMSE)\n",
    "\n",
    "            MSE = np.square(np.subtract(y_test, y_test_eval)).mean()\n",
    "            RMSE = math.sqrt(MSE)\n",
    "            RMSE_per_eta_test.append(RMSE)\n",
    "\n",
    "        # Now, append the fold's list of RMSEs for each eta into the list carrying the lists for all folds \n",
    "        RMSE_list_per_fold_tr.append(RMSE_per_eta_tr)\n",
    "        RMSE_list_per_fold_test.append(RMSE_per_eta_test)\n",
    "\n",
    "    # After compiling the RMSE data for each eta from all the folds, we find the eta with the lowest validation RMSE to be our optimal eta.\n",
    "    # Compute the average and standard deviation of the training and testing RMSEs over the folds\n",
    "    avg_RMSE_tr = np.array(RMSE_list_per_fold_tr).mean(axis=0)\n",
    "    avg_RMSE_test = np.array(RMSE_list_per_fold_test).mean(axis=0)\n",
    "\n",
    "    std_RMSE_tr = np.std(np.array(RMSE_list_per_fold_tr), axis=0)\n",
    "    std_RMSE_test = np.std(np.array(RMSE_list_per_fold_test), axis=0)\n",
    "\n",
    "    # Choose the eta with lowest RMSE across all folds' testing data\n",
    "    eta_opt = etas[np.argmin(avg_RMSE_test)]\n",
    "\n",
    "    # Plot RMSE vs. eta for training and testing RMSE\n",
    "    if plot:\n",
    "\n",
    "        fig, ax = plt.subplots(figsize=(10,10))\n",
    "\n",
    "        plt.errorbar(etas, avg_RMSE_tr, xerr=None, yerr=std_RMSE_tr, linewidth=2, markersize=8, capsize=8, label=('Training'))\n",
    "        plt.errorbar(etas, avg_RMSE_test, xerr=None, yerr=std_RMSE_test, linewidth=2, markersize=8, capsize=8, label=('Validation'))\n",
    "\n",
    "        plt.plot(eta_opt, np.min(avg_RMSE_test), marker=\"o\", markersize=15, color='black', label=(\"Optimum\"))\n",
    "\n",
    "        plt.xlabel(\"Eta\",fontsize=20)\n",
    "        plt.ylabel(\"RMSE\",fontsize=20)\n",
    "\n",
    "        # Change size of tick labels\n",
    "        plt.tick_params(axis='both', labelsize=16)\n",
    "\n",
    "        plt.xscale('log')\n",
    "        plt.yscale('log')\n",
    "\n",
    "        # Create legend\n",
    "        plt.legend(loc='upper left')\n",
    "\n",
    "        # Save\n",
    "        plt.savefig('eta_opt.pdf', format='pdf', dpi=1200)\n",
    "\n",
    "    return eta_opt"
   ]
  },
  {
   "cell_type": "code",
   "execution_count": null,
   "metadata": {},
   "outputs": [],
   "source": []
  },
  {
   "cell_type": "code",
   "execution_count": null,
   "metadata": {},
   "outputs": [],
   "source": []
  }
 ],
 "metadata": {
  "kernelspec": {
   "display_name": "Python 3 (ipykernel)",
   "language": "python",
   "name": "python3"
  },
  "language_info": {
   "codemirror_mode": {
    "name": "ipython",
    "version": 3
   },
   "file_extension": ".py",
   "mimetype": "text/x-python",
   "name": "python",
   "nbconvert_exporter": "python",
   "pygments_lexer": "ipython3",
   "version": "3.13.7"
  }
 },
 "nbformat": 4,
 "nbformat_minor": 4
}
